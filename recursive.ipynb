{
 "cells": [
  {
   "cell_type": "code",
   "execution_count": 4,
   "metadata": {
    "collapsed": false
   },
   "outputs": [
    {
     "name": "stdout",
     "output_type": "stream",
     "text": [
      "1.00000000\n",
      "0.999999999999999888977698\n",
      "False\n"
     ]
    }
   ],
   "source": [
    "sum = 0.0\n",
    "for i in range(10):\n",
    "    sum += 0.1\n",
    "print('%.8f'%sum)\n",
    "print('%.24f'%sum)\n",
    "print(sum == 1)\n"
   ]
  },
  {
   "cell_type": "code",
   "execution_count": 5,
   "metadata": {
    "collapsed": false
   },
   "outputs": [
    {
     "name": "stdout",
     "output_type": "stream",
     "text": [
      "Help on built-in function round in module builtins:\n",
      "\n",
      "round(...)\n",
      "    round(number[, ndigits]) -> number\n",
      "    \n",
      "    Round a number to a given precision in decimal digits (default 0 digits).\n",
      "    This returns an int when called with one argument, otherwise the\n",
      "    same type as the number. ndigits may be negative.\n",
      "\n"
     ]
    }
   ],
   "source": [
    "help(round)"
   ]
  },
  {
   "cell_type": "code",
   "execution_count": 6,
   "metadata": {
    "collapsed": true
   },
   "outputs": [],
   "source": [
    "sum2 = round(sum,2)"
   ]
  },
  {
   "cell_type": "code",
   "execution_count": 14,
   "metadata": {
    "collapsed": false
   },
   "outputs": [
    {
     "name": "stdout",
     "output_type": "stream",
     "text": [
      "1.00000000\n",
      "1.000000000000000000000000\n",
      "True\n"
     ]
    }
   ],
   "source": [
    "print('%.8f'%sum2)\n",
    "print('%.24f'%sum2)\n",
    "print(sum2 == 1)\n"
   ]
  },
  {
   "cell_type": "code",
   "execution_count": 15,
   "metadata": {
    "collapsed": true
   },
   "outputs": [],
   "source": [
    "import pdb\n",
    "#import the debugger package\n"
   ]
  },
  {
   "cell_type": "code",
   "execution_count": 19,
   "metadata": {
    "collapsed": true
   },
   "outputs": [],
   "source": [
    "def dumb_recur(start=0):\n",
    "    #pdb.pdb(skip=['django.*']).set_trace()\n",
    "    if start == 5:\n",
    "        return [start]\n",
    "    else:\n",
    "        return [start]+ dumb_recur(start+1)"
   ]
  },
  {
   "cell_type": "code",
   "execution_count": 20,
   "metadata": {
    "collapsed": false
   },
   "outputs": [
    {
     "name": "stdout",
     "output_type": "stream",
     "text": [
      "[0, 1, 2, 3, 4, 5]\n"
     ]
    }
   ],
   "source": [
    "print(dumb_recur())\n",
    "\n",
    "#1st    start= 0 \n",
    "#2nd    start = 1\n",
    "#3rd    start = 2\n",
    "#4th    start = 3\n",
    "#5th    start = 4\n",
    "#6th    start = 5"
   ]
  },
  {
   "cell_type": "code",
   "execution_count": 32,
   "metadata": {
    "collapsed": false
   },
   "outputs": [
    {
     "name": "stdout",
     "output_type": "stream",
     "text": [
      "[3, 4, 5, 6, 7, 8]\n"
     ]
    }
   ],
   "source": [
    "def recur_wordlen(word_list):\n",
    "# pdb.Pdb(skip=['django.#']).set_trace()\n",
    "    if len(word_list) == 1:\n",
    "        return[len(word_list[0])]\n",
    "    else:\n",
    "        templen = [len(word_list.pop())]\n",
    "        return recur_wordlen(word_list) + templen\n",
    "mywords = ['cat', 'four', 'cathy', 'sixpak', 'gerhard', 'eighton8']\n",
    "print(recur_wordlen(mywords))   \n",
    "    #pop is a method  "
   ]
  },
  {
   "cell_type": "code",
   "execution_count": 25,
   "metadata": {
    "collapsed": false
   },
   "outputs": [
    {
     "name": "stdout",
     "output_type": "stream",
     "text": [
      "cat\n",
      "Help on built-in function pop:\n",
      "\n",
      "pop(...) method of builtins.list instance\n",
      "    L.pop([index]) -> item -- remove and return item at index (default last).\n",
      "    Raises IndexError if list is empty or index is out of range.\n",
      "\n"
     ]
    }
   ],
   "source": [
    "print(mywords.pop())\n",
    "help(mywords.pop)"
   ]
  },
  {
   "cell_type": "code",
   "execution_count": 33,
   "metadata": {
    "collapsed": false
   },
   "outputs": [],
   "source": [
    "def pascal_triangle(row, col):\n",
    "    if((col<0) or (col>row)):\n",
    "        return 0\n",
    "    elif ((col == 0) or (col == row)):\n",
    "        return 1\n",
    "    else:\n",
    "        return (pascal_triangle(row-1, row-1)+ pascal_triangle(row-1, col))\n",
    "    "
   ]
  },
  {
   "cell_type": "code",
   "execution_count": 34,
   "metadata": {
    "collapsed": false
   },
   "outputs": [
    {
     "name": "stdout",
     "output_type": "stream",
     "text": [
      "5\n"
     ]
    }
   ],
   "source": [
    "print(pascal_triangle(8,4))"
   ]
  },
  {
   "cell_type": "code",
   "execution_count": null,
   "metadata": {
    "collapsed": true
   },
   "outputs": [],
   "source": []
  }
 ],
 "metadata": {
  "kernelspec": {
   "display_name": "Python 3",
   "language": "python",
   "name": "python3"
  },
  "language_info": {
   "codemirror_mode": {
    "name": "ipython",
    "version": 3
   },
   "file_extension": ".py",
   "mimetype": "text/x-python",
   "name": "python",
   "nbconvert_exporter": "python",
   "pygments_lexer": "ipython3",
   "version": "3.4.3"
  }
 },
 "nbformat": 4,
 "nbformat_minor": 0
}
