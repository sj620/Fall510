{
 "cells": [
  {
   "cell_type": "code",
   "execution_count": 36,
   "metadata": {
    "collapsed": false
   },
   "outputs": [
    {
     "data": {
      "text/plain": [
       "4.0"
      ]
     },
     "execution_count": 36,
     "metadata": {},
     "output_type": "execute_result"
    }
   ],
   "source": [
    "def polygarea(coords):\n",
    "    \"\"\"\n",
    "    This function takes a list of (x,y) coordinates as an input, then use Green's Theorem to calculates the area of the polygon \n",
    "    bound by the coordinates as an output. In this question,in order to let the function run correctly, the (x,y)coordinates must be entered in \n",
    "    clockwise or counterclockwise .\n",
    "    \n",
    "    Parameters: coords which is the list of (x,y) input coordinates. \n",
    "    \"\"\"\n",
    "    s=0\n",
    "    #We first create a variable called s which is the sum calculated by Green's Theorem and we make the area zero.\n",
    "    len_coor=len(coords)\n",
    "    #Create a variable called len_coor which is the length of the input coordinates\n",
    "    for i in range(len_coor-1):\n",
    "        #use for to go through each input (x,y) coordinate from the first to the penultimate.\n",
    "        s =s + (coords[i][0]*coords[i+1][1] - coords[i+1][0]*coords[i][1])\n",
    "        #calculate the sum by Green's Theorem\n",
    "    return abs(s/2.)\n",
    "        #Divide the absolute value of the sum two according to complete Green's theorem to get the desired area\n",
    "\n",
    "\n",
    "#Test the function and print the calculated area.\n",
    "polygarea([(0,2), (2,2), (2,0), (0,0)])\n"
   ]
  },
  {
   "cell_type": "code",
   "execution_count": 1,
   "metadata": {
    "collapsed": false
   },
   "outputs": [
    {
     "ename": "SyntaxError",
     "evalue": "invalid syntax (<ipython-input-1-2f05422d46b5>, line 19)",
     "output_type": "error",
     "traceback": [
      "\u001b[1;36m  File \u001b[1;32m\"<ipython-input-1-2f05422d46b5>\"\u001b[1;36m, line \u001b[1;32m19\u001b[0m\n\u001b[1;33m    p= p+ (coords[0][0]-coords[len(coords)-1][0])**2 + (coords[0][1]-coord[len(coords)-1][1])**2)**(1/2)\u001b[0m\n\u001b[1;37m                                                                                                ^\u001b[0m\n\u001b[1;31mSyntaxError\u001b[0m\u001b[1;31m:\u001b[0m invalid syntax\n"
     ]
    }
   ],
   "source": [
    "def polygperim(coords):\n",
    "    \"\"\"\n",
    "    This function takes a list of (x,y) coordinates as an input, then use distance equation to calculates the perimeter of the polygon \n",
    "    bound by the coordinates as an output. In this question,in order to let the function run correctly, the (x,y)coordinates must be entered in \n",
    "    clockwise or counterclockwise .\n",
    "    \n",
    "    Parameters: coords which is the list of (x,y) input coordinates. \n",
    "    \"\"\"\n",
    "    p=0\n",
    "    #We first create a variable called p which is the perimeter of the polygon and we make it zero.\n",
    "    len_coor=len(coords)\n",
    "    #Create a variable called len_coor which is the length of the input coordinates\n",
    "\n",
    "  \n",
    "    for i in range(len_coor-1):\n",
    "        #use for to go through each input (x,y) coordinate from the first to the penultimate.\n",
    "        p =p + ((coords[i+1][0]-coords[i][0])**2 + (coords[i+1][1]-coords[i][1]**2))**(1/2)\n",
    "        #calculate the perimeter of the polygon by distance equation :square root of [(x2-x1)^2+(y2-y1)^2]\n",
    "    p= p+ (coords[0][0]-coords[len(coords)-1][0])**2 + (coords[0][1]-coord[len(coords)-1][1])**2)**(1/2)\n",
    "    #calculate the distance between the first and last points\n",
    "    return p\n",
    "        #print the perimeter of polygon\n",
    "\n",
    "\n",
    "#Test the function and print the calculated perimeter.\n",
    "polygperim([(0,2), (2,2), (2,0), (0,0)])\n"
   ]
  },
  {
   "cell_type": "code",
   "execution_count": null,
   "metadata": {
    "collapsed": true
   },
   "outputs": [],
   "source": []
  },
  {
   "cell_type": "code",
   "execution_count": null,
   "metadata": {
    "collapsed": true
   },
   "outputs": [],
   "source": []
  }
 ],
 "metadata": {
  "kernelspec": {
   "display_name": "Python 3",
   "language": "python",
   "name": "python3"
  },
  "language_info": {
   "codemirror_mode": {
    "name": "ipython",
    "version": 3
   },
   "file_extension": ".py",
   "mimetype": "text/x-python",
   "name": "python",
   "nbconvert_exporter": "python",
   "pygments_lexer": "ipython3",
   "version": "3.4.3"
  }
 },
 "nbformat": 4,
 "nbformat_minor": 0
}
