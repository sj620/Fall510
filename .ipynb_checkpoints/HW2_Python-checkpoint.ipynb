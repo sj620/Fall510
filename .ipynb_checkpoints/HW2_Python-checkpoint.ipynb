{
 "cells": [
  {
   "cell_type": "markdown",
   "metadata": {},
   "source": [
    "1"
   ]
  },
  {
   "cell_type": "code",
   "execution_count": 1,
   "metadata": {
    "collapsed": false
   },
   "outputs": [
    {
     "name": "stdout",
     "output_type": "stream",
     "text": [
      "0 1 1 2 3 5 8 13 21 34 55 89 144 233 377 610 987 "
     ]
    }
   ],
   "source": [
    "def fib(n):\n",
    "     \"\"\"\n",
    "    The Fibonacci sequence starts with the numbers 0 and 1. Then,\n",
    "    the next number is the sum of the two numbers before it and so on. Finally returns a list of fibonacci \n",
    "    number less than n.\n",
    "\n",
    "    Parameter: number n\n",
    "    \"\"\"\n",
    "\n",
    "    a, b = 0, 1            # create variable a = 0, b =1, which are the first two numbers of fibonacci sequence\n",
    "    while a < n:           # while loop goes when a is less than n\n",
    "        print(a, end=' ')  # print a in one line\n",
    "        a, b = b, a+b      # a= a+b, b=b+ab then calculate the next two fibonacci number\n",
    "    if a < n:              # check if a is less than n\n",
    "        print(a)           # print the new a in the same line\n",
    "fib(1000)                  # Test number 1000"
   ]
  },
  {
   "cell_type": "code",
   "execution_count": 3,
   "metadata": {
    "collapsed": false
   },
   "outputs": [
    {
     "data": {
      "text/plain": [
       "4"
      ]
     },
     "execution_count": 3,
     "metadata": {},
     "output_type": "execute_result"
    }
   ],
   "source": [
    "def mymax(a,b):\n",
    "    \"\"\"\n",
    "    The mymax function takes two numbers as an input and returns the largest of them as an output.\n",
    "    \n",
    "    Parameter: two numbers x, y.\n",
    "    \"\"\"\n",
    "\n",
    "    if b > a:    #check if b is less than a\n",
    "        return b #if yes, return b as an output\n",
    "    else:        #if not, \n",
    "        return a #return a as an output\n",
    "mymax(3,4)"
   ]
  },
  {
   "cell_type": "code",
   "execution_count": 8,
   "metadata": {
    "collapsed": false
   },
   "outputs": [
    {
     "data": {
      "text/plain": [
       "4"
      ]
     },
     "execution_count": 8,
     "metadata": {},
     "output_type": "execute_result"
    }
   ],
   "source": [
    "def max_of_three(x,y,z):\n",
    "    \"\"\"\n",
    "    The max_of_three function takes three numbers and returns the largest of the three as an output.\n",
    "    \n",
    "    Parameter: three numbers:x,y,z\n",
    "    \"\"\"\n",
    "\n",
    "    max_of_three = x    #let x be the max of three\n",
    "    if y > x:           #check if y is greater than x\n",
    "        return y        #if yes, return y as the largest number\n",
    "    elif z >x:          #check if z is greater than x\n",
    "        return z        #if yes, return z as the largest number\n",
    "    else:               #otherwise\n",
    "        return x        # return x as the output\n",
    "max_of_three(3,4,5)     #Test\n",
    "        "
   ]
  },
  {
   "cell_type": "code",
   "execution_count": 9,
   "metadata": {
    "collapsed": false
   },
   "outputs": [
    {
     "name": "stdout",
     "output_type": "stream",
     "text": [
      "5\n"
     ]
    }
   ],
   "source": [
    "def mylen(text):\n",
    "\"\"\"\n",
    " mylen function takes a string as an input and then return the length of the string as an output\n",
    " \n",
    " Parameter: a string called text\n",
    "\"\"\"\n",
    " \n",
    "    count=0          #create a variable count and make it zero, use count to calculate the length of the string\n",
    "    for i in text:   # for loop goes through the first character to the last one in the string\n",
    "        count=count+1 # add 1 to the length character\n",
    "    print (count)     # return to the length the character\n",
    "mylen('ljkjk')        #Test"
   ]
  },
  {
   "cell_type": "code",
   "execution_count": 11,
   "metadata": {
    "collapsed": false
   },
   "outputs": [
    {
     "data": {
      "text/plain": [
       "True"
      ]
     },
     "execution_count": 11,
     "metadata": {},
     "output_type": "execute_result"
    }
   ],
   "source": [
    "def isVowel(char):\n",
    "    \"\"\"\n",
    "    The isVowel function takes a string of one character c as an input and returns true if it is a\n",
    "    vowel, and otherwise returns false. \n",
    "    \"\"\"\n",
    "    if char == 'a' or char == 'e' or char == 'i' or char == 'o' or char == 'u': \n",
    "                      #check if the character is a or e or i or o or u\n",
    "        return True   #if yes, return true\n",
    "    else:             #if not\n",
    "        return False  #return false\n",
    "isVowel('a')          #Test"
   ]
  },
  {
   "cell_type": "code",
   "execution_count": 16,
   "metadata": {
    "collapsed": false
   },
   "outputs": [
    {
     "name": "stdout",
     "output_type": "stream",
     "text": [
      "tothohisos isos fofuounon"
     ]
    }
   ],
   "source": [
    "def translate(string):\n",
    "    \"\"\"\n",
    "    The translate function takes a string and translates it into \"robber's language\" as an output.  \n",
    "   \n",
    "   Parameter: string\n",
    "    \"\"\"\n",
    "    consonants = 'bcdfghjklmnpqrstuvwsyz' #create a variable consonants.\n",
    "    for i in string:                      #for each character i in the string\n",
    "        if i in consonants:               #check if i is in the consonants list\n",
    "            print(i+'o'+i,end= '')        #if yes, double i and add o in between two i and then print it in a line.\n",
    "        else:                             #if not, print i in one line.\n",
    "            print(i,end='')\n",
    "\n",
    "translate('this is fun')                  #Test\n",
    "    "
   ]
  },
  {
   "cell_type": "code",
   "execution_count": 18,
   "metadata": {
    "collapsed": false
   },
   "outputs": [
    {
     "name": "stdout",
     "output_type": "stream",
     "text": [
      "10\n",
      "24\n"
     ]
    }
   ],
   "source": [
    "def sum(list1):\n",
    "   \n",
    "   \"\"\"\n",
    "    The sum function takes in a list of numbers and returns the sum of all numbers in that list.\n",
    "    \n",
    "    Parameter: a list of numbers\n",
    "    \"\"\"\n",
    "    s = 0                # create a variable s which is the sum of the list and make it equals to zero\n",
    "    for num in list1:    #for each number in the list1\n",
    "        s= s+num         # add number to the sum s\n",
    "    return s             #print the sum\n",
    "def multiply(list1):\n",
    "    \"\"\"\n",
    "    The multiply function takes in a list of numbers and returns the multiplication of all numbers in the list.\n",
    "    \n",
    "    Parameter: a list of numbers called list1\n",
    "    \"\"\"\n",
    "    m=1                   #create a variable m which is the multiplication of the list and make it zero\n",
    "    for num in list1:     #for every number in the list1\n",
    "        m=m*num           # multiply m and the number \n",
    "    return m              # print the multiplication\n",
    "print(sum([1,2,3,4]))      #Test\n",
    "print(multiply([1,2,3,4]))\n"
   ]
  },
  {
   "cell_type": "code",
   "execution_count": 22,
   "metadata": {
    "collapsed": false
   },
   "outputs": [
    {
     "data": {
      "text/plain": [
       "'gnitset ma i'"
      ]
     },
     "execution_count": 22,
     "metadata": {},
     "output_type": "execute_result"
    }
   ],
   "source": [
    "def reverse(text):\n",
    "    \"\"\"\n",
    "    The reverse function takes a string and returns the reversal of that string. \n",
    "    \n",
    "    Parameter: a string called text\n",
    "    \"\"\"\n",
    "\n",
    "    x=\"\"   #create an empty variable x as the output\n",
    "    for i in range(len(text)): # for loop goes through the first character to the last character of the string\n",
    "        x += text[-(i+1)]      # add character to variable x, the character is from the last of the string to the first\n",
    "    return x                   # returns the reverse as output\n",
    "reverse('i am testing')        #Test"
   ]
  },
  {
   "cell_type": "code",
   "execution_count": 30,
   "metadata": {
    "collapsed": false
   },
   "outputs": [
    {
     "data": {
      "text/plain": [
       "True"
      ]
     },
     "execution_count": 30,
     "metadata": {},
     "output_type": "execute_result"
    }
   ],
   "source": [
    "def is_palindrome(s):\n",
    "    \n",
    "    \"\"\"\n",
    "    The is_palindrom function takes a string and check if it is palindrom. If yes, return true and false otherwise.\n",
    "    \n",
    "    Parameter: a string\n",
    "    \"\"\"\n",
    "    if len(s) < 1:     # check if the length of the string is less than 1\n",
    "        return True    #if yes, return true\n",
    "    elif s[0] == s[-1]:#else check if the first/second character of the string is equal to the last/penultimate character of the string, and so on\n",
    "        return is_palindrome(s[1:-1])# if yes, return ture\n",
    "    else:               #in other cases\n",
    "        return False    # return false\n",
    "is_palindrome('radar')  #Test"
   ]
  },
  {
   "cell_type": "code",
   "execution_count": 24,
   "metadata": {
    "collapsed": false
   },
   "outputs": [
    {
     "data": {
      "text/plain": [
       "True"
      ]
     },
     "execution_count": 24,
     "metadata": {},
     "output_type": "execute_result"
    }
   ],
   "source": [
    "def isMember (value, list):\n",
    "    \"\"\"\n",
    "    The isMember function takes a value and a list of numbers and determine if the value is in that list.\n",
    "    \n",
    "    Parameter: a value and a list of numbers\n",
    "    \"\"\"\n",
    "    \n",
    "    for element in list:   # for each elemnt in the list\n",
    "        if element == value:# check if the element if equals to the value\n",
    "            return True     #if yes, return true\n",
    "    return False            #if not, return false\n",
    "isMember(2,[2,3,4])         #Test"
   ]
  },
  {
   "cell_type": "code",
   "execution_count": 25,
   "metadata": {
    "collapsed": false
   },
   "outputs": [
    {
     "data": {
      "text/plain": [
       "True"
      ]
     },
     "execution_count": 25,
     "metadata": {},
     "output_type": "execute_result"
    }
   ],
   "source": [
    "def overlapping(lista,listb):\n",
    "    \"\"\"\n",
    "    The overlapping function takes two lists of numbers and check if they have more than one number in common,\n",
    "    if yes,then return ture and false otherwise.\n",
    "    \n",
    "    Parameter: two lists of numbers\n",
    "    \"\"\"\n",
    "    for char1 in lista:     # for each number char1 in the lista\n",
    "        for char2 in listb: # for each numbber char2 in the listb\n",
    "            if char1 == char2: #check if char1 is the same as char2\n",
    "                return True    #if yes, return true\n",
    "    else:                      #otherwise\n",
    "        return False           #return false\n",
    "overlapping([2,3,4],[4,5,6])   #Test"
   ]
  },
  {
   "cell_type": "code",
   "execution_count": 27,
   "metadata": {
    "collapsed": false
   },
   "outputs": [
    {
     "name": "stdout",
     "output_type": "stream",
     "text": [
      "xxxxx\n"
     ]
    }
   ],
   "source": [
    "def generate_n_chars(n,c):\n",
    "    \"\"\"\n",
    "    The generate_n_chars takes a number and character as input, then returns a string of 'x' whose length is equals to the number. \n",
    "    \n",
    "    \"\"\"\n",
    "    x=''    #create an empty variable x as the output\n",
    "    for num in range(n):  # for each number in the from 1 to n, \n",
    "        x=x+c             #add the character c to the string x printed \n",
    "    print(x)              #print the string of 'x' whose length is the number\n",
    "generate_n_chars(5,'x')   #Test"
   ]
  },
  {
   "cell_type": "code",
   "execution_count": null,
   "metadata": {
    "collapsed": true
   },
   "outputs": [],
   "source": []
  }
 ],
 "metadata": {
  "kernelspec": {
   "display_name": "Python 3",
   "language": "python",
   "name": "python3"
  },
  "language_info": {
   "codemirror_mode": {
    "name": "ipython",
    "version": 3
   },
   "file_extension": ".py",
   "mimetype": "text/x-python",
   "name": "python",
   "nbconvert_exporter": "python",
   "pygments_lexer": "ipython3",
   "version": "3.4.3"
  }
 },
 "nbformat": 4,
 "nbformat_minor": 0
}
