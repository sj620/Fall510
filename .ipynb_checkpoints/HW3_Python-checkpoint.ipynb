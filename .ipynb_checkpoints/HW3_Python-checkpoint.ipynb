{
 "cells": [
  {
   "cell_type": "markdown",
   "metadata": {},
   "source": [
    "# Q1"
   ]
  },
  {
   "cell_type": "code",
   "execution_count": 26,
   "metadata": {
    "collapsed": false,
    "scrolled": true
   },
   "outputs": [
    {
     "name": "stdout",
     "output_type": "stream",
     "text": [
      "****\n",
      "*********\n",
      "*******\n"
     ]
    }
   ],
   "source": [
    "\"\"\"\n",
    "This functionis is to take a list of integers and prints a histogram: stars whose number is the length of the word.\n",
    "We first create a variable x: a list of integers, then print the histogram by for loop.\n",
    "\n",
    "Parameter is x: a list of integers\n",
    "\"\"\"\n",
    "def histogram(x): \n",
    "    for i in range(0,len(x)): #Go from the first integer to the last integer in the list  \n",
    "        print ('*'*x[i])    # for each integer, print '*' whose number equals to the input integer. \n",
    "    return               \n",
    "histogram([4,9,7])    #Test by inputting list[4,9,7]\n"
   ]
  },
  {
   "cell_type": "markdown",
   "metadata": {},
   "source": [
    "# Q2"
   ]
  },
  {
   "cell_type": "code",
   "execution_count": 7,
   "metadata": {
    "collapsed": false
   },
   "outputs": [
    {
     "name": "stdout",
     "output_type": "stream",
     "text": [
      "5\n"
     ]
    },
    {
     "data": {
      "text/plain": [
       "5"
      ]
     },
     "execution_count": 7,
     "metadata": {},
     "output_type": "execute_result"
    }
   ],
   "source": [
    "def max_in_list(number_list):\n",
    "    \"\"\"\n",
    "     The max_in_list function takes a list of numbers  and returns the largest one as an output by for loop. \n",
    "     \n",
    "     Parameter: a list of number\n",
    "    \"\"\"\n",
    "    x=number_list[0]      # Set the value of the first number in the list as x\n",
    "    for i in number_list: # Go from the first number to the last number in the list\n",
    "        if i>x:                     #compare the ith number to the first one\n",
    "            x=i                     # if the ith one is greater than x, than replace x with ith number, and print the new x value\n",
    "    return x                        # return the largest number until we compare the all the numbers in the list  to x.\n",
    "max_in_list([2,3,4,5])              # Test a list of number[2,3,4,5]"
   ]
  },
  {
   "cell_type": "markdown",
   "metadata": {},
   "source": [
    "# Q3"
   ]
  },
  {
   "cell_type": "code",
   "execution_count": 9,
   "metadata": {
    "collapsed": false
   },
   "outputs": [
    {
     "data": {
      "text/plain": [
       "[4, 3, 5, 6, 7]"
      ]
     },
     "execution_count": 9,
     "metadata": {},
     "output_type": "execute_result"
    }
   ],
   "source": [
    "def map_word_into_integer( word_list ):\n",
    "    \"\"\"\n",
    "     This function takes a list of words a as an input, and returns a list \n",
    "     of integers corresponding to the length of those words by for loop.\n",
    "     \n",
    "     Parameter: a list of words called word_list\n",
    "     \n",
    "    \"\"\"\n",
    "    lenword_list = []             #Create a value called lenword_list, and make the value empty.\n",
    "    for word in word_list:        #Go from the first word to the last word in my list.\n",
    "          lenword_list.append( len( word ) ) # put the length of each word \n",
    "                                                            #then return to the list\n",
    "    return lenword_list                  \n",
    "map_word_into_integer(['know','key','apple','double','weather'])   #Test a list of words[['know','key','apple','double','weather']"
   ]
  },
  {
   "cell_type": "markdown",
   "metadata": {},
   "source": [
    "# Q4"
   ]
  },
  {
   "cell_type": "code",
   "execution_count": 28,
   "metadata": {
    "collapsed": false
   },
   "outputs": [
    {
     "data": {
      "text/plain": [
       "5"
      ]
     },
     "execution_count": 28,
     "metadata": {},
     "output_type": "execute_result"
    }
   ],
   "source": [
    "def find_longest_word(list1):\n",
    "    \"\"\"\n",
    "    The find_longest_word function takes a list of words(list1) as an input and prints the \n",
    "    length of the longest word as an output by for loop. we first create a variable called list1.\n",
    "    \n",
    "    Parameter: a list of words called list1 .\n",
    "    \"\"\"\n",
    "    longest=0        # create the longest word and set the value of longest to 0\n",
    "    for n in range(0,len(list1)):#loops through every word in the list \n",
    "        if len(list1[n])>longest: #compare the length of each word to the longest,if length of list(n) is greater than the 0\n",
    "            longest=len(list1[n]) # replace the longest with this word\n",
    "    return longest                # return the new longest \n",
    "find_longest_word(['apple','great','cup']) #Test a list of words ['apple','great','cup']\n"
   ]
  },
  {
   "cell_type": "markdown",
   "metadata": {},
   "source": [
    "# Q5"
   ]
  },
  {
   "cell_type": "code",
   "execution_count": 14,
   "metadata": {
    "collapsed": false
   },
   "outputs": [
    {
     "data": {
      "text/plain": [
       "['apple']"
      ]
     },
     "execution_count": 14,
     "metadata": {},
     "output_type": "execute_result"
    }
   ],
   "source": [
    "def filter_long_words(list1,n):\n",
    "    \"\"\"\n",
    "    This function is going to input a list of words and an integer n , \n",
    "    then compare the length of words to the integer and return to the longest word by for loop.\n",
    "    \n",
    "    Parameter: a list of words and an integer n.\n",
    "    \"\"\"\n",
    "    word_list=[] # Create a value called word_list and make it an empty list\n",
    "    for i in range(0,len(list1)): #Go through every word in the list \n",
    "        if len(list1[i])>n:     # compare the length of each word in the list to the integer n, if length is greater than n\n",
    "            word_list.append(list1[i])    # then put the length of each word\n",
    "    return word_list                      # return to the our list of words after compare all the words' length to n one by one.\n",
    "       \n",
    "filter_long_words(['apple','cup','nice'],4)  #Test a list and integer (['apple','cup','nice'],4)\n",
    "\n"
   ]
  },
  {
   "cell_type": "markdown",
   "metadata": {},
   "source": [
    "# Q6"
   ]
  },
  {
   "cell_type": "code",
   "execution_count": 7,
   "metadata": {
    "collapsed": false
   },
   "outputs": [
    {
     "data": {
      "text/plain": [
       "True"
      ]
     },
     "execution_count": 7,
     "metadata": {},
     "output_type": "execute_result"
    }
   ],
   "source": [
    "def is_palindrome(phrase):\n",
    "    \"\"\"\n",
    "    The is_palindrome function takes a string n as input .I created a variable phrase. If the string is a palindrome, \n",
    "    then the function returns true. Otherwise, it returns false. Capitalization, space, \n",
    "    and punctuation are ignored when determining whether a string is a palindrome by for loop. \n",
    "    \"\"\"\n",
    "    lphrase=phrase.lower()             #create a variable phrase, lower all capitalized letters then repalce the phrase with the new lphrase\n",
    "    words='abcdefghijklmnopqrstuvwxyz' #create a string of words which has 26 letters \n",
    "    inputphrase=''                     #create a inputphrase and makes it the lphrase empty and ignored the punctuation\n",
    "    for n in lphrase:                  #the for loop go from the first letter to the last letter\n",
    "        if n in words:                 #find out the characters in words\n",
    "            inputphrase=inputphrase+n  #if the charater is in words, then put it into inputphrase\n",
    "    c=0                                #create a variable c and make it equal to zero\n",
    "    for i in range(len(inputphrase)):  # go from the first character to the last character in the inputphrase\n",
    "        if inputphrase[i]==inputphrase[-(i+1)]: #compare the letter from far left and far right, then the second left and second right, and so on.\n",
    "            c=c+1                               #if the far left letter is the same as the far right, then add 1 to the value c.\n",
    "    if c==len(inputphrase):            # if the length of inputphrase equals to c\n",
    "        return True                    # then return true\n",
    "    else:                              # otherwise, return False\n",
    "        return False\n",
    "is_palindrome('Was it a rat I saw?')   #Test the phrase('Was it a rat I saw?')\n",
    "\n"
   ]
  },
  {
   "cell_type": "markdown",
   "metadata": {},
   "source": [
    "# Q7"
   ]
  },
  {
   "cell_type": "code",
   "execution_count": 31,
   "metadata": {
    "collapsed": false
   },
   "outputs": [
    {
     "data": {
      "text/plain": [
       "True"
      ]
     },
     "execution_count": 31,
     "metadata": {},
     "output_type": "execute_result"
    }
   ],
   "source": [
    "def isPangram(s):\n",
    "    \"\"\"\n",
    "    The function pangram takes a string s as an input. If the string contains all the letters then the function returns True. Otherwise, it \n",
    "    returns False by for loop.\n",
    "    \"\"\"\n",
    "    alphabetList = 'abcdefghijklmnopqrstuvwxyz' #make the alphabetList contains 26 letters\n",
    "    alphabetCount = 0                           #create a variable alphabetCount and make it to zero\n",
    "    if len(s) < 26:                             #if the number of the string is less than 26, then print false and ends.\n",
    "        return False                            \n",
    "    else:                     #if the number of the string is greater than 26  \n",
    "        s = s.lower()         #create a variable called s and lower all the capitalized letter then replace the original s with the new s              \n",
    "        for i in range(0,len(alphabetList)): #loops through the first alphabet to the last alphabet in the alphabetList\n",
    "            if alphabetList[i] in s:  #if the alphabetList is in the string \n",
    "                alphabetCount = alphabetCount + 1  #then add 1 to the number of each alphabet\n",
    "        if alphabetCount == 26:                    #if the number of alphabet equals to 26\n",
    "            return True                            #return ture\n",
    "        else:                                      #otherwise return false\n",
    "            return False\n",
    "isPangram(\"The quick brown fox jumps over the lazy dog\")  #Test the sentence "
   ]
  },
  {
   "cell_type": "markdown",
   "metadata": {},
   "source": [
    "# Q8"
   ]
  },
  {
   "cell_type": "code",
   "execution_count": 23,
   "metadata": {
    "collapsed": false
   },
   "outputs": [
    {
     "name": "stdout",
     "output_type": "stream",
     "text": [
      "99 bottles of beer on the wall, 99 bottles of beer.\n",
      "Take one down, pass it around, 98 bottles of beer on the wall\n",
      "98 bottles of beer on the wall, 98 bottles of beer.\n",
      "Take one down, pass it around, 97 bottles of beer on the wall\n",
      "97 bottles of beer on the wall, 97 bottles of beer.\n",
      "Take one down, pass it around, 96 bottles of beer on the wall\n",
      "96 bottles of beer on the wall, 96 bottles of beer.\n",
      "Take one down, pass it around, 95 bottles of beer on the wall\n",
      "95 bottles of beer on the wall, 95 bottles of beer.\n",
      "Take one down, pass it around, 94 bottles of beer on the wall\n",
      "94 bottles of beer on the wall, 94 bottles of beer.\n",
      "Take one down, pass it around, 93 bottles of beer on the wall\n",
      "93 bottles of beer on the wall, 93 bottles of beer.\n",
      "Take one down, pass it around, 92 bottles of beer on the wall\n",
      "92 bottles of beer on the wall, 92 bottles of beer.\n",
      "Take one down, pass it around, 91 bottles of beer on the wall\n",
      "91 bottles of beer on the wall, 91 bottles of beer.\n",
      "Take one down, pass it around, 90 bottles of beer on the wall\n",
      "90 bottles of beer on the wall, 90 bottles of beer.\n",
      "Take one down, pass it around, 89 bottles of beer on the wall\n",
      "89 bottles of beer on the wall, 89 bottles of beer.\n",
      "Take one down, pass it around, 88 bottles of beer on the wall\n",
      "88 bottles of beer on the wall, 88 bottles of beer.\n",
      "Take one down, pass it around, 87 bottles of beer on the wall\n",
      "87 bottles of beer on the wall, 87 bottles of beer.\n",
      "Take one down, pass it around, 86 bottles of beer on the wall\n",
      "86 bottles of beer on the wall, 86 bottles of beer.\n",
      "Take one down, pass it around, 85 bottles of beer on the wall\n",
      "85 bottles of beer on the wall, 85 bottles of beer.\n",
      "Take one down, pass it around, 84 bottles of beer on the wall\n",
      "84 bottles of beer on the wall, 84 bottles of beer.\n",
      "Take one down, pass it around, 83 bottles of beer on the wall\n",
      "83 bottles of beer on the wall, 83 bottles of beer.\n",
      "Take one down, pass it around, 82 bottles of beer on the wall\n",
      "82 bottles of beer on the wall, 82 bottles of beer.\n",
      "Take one down, pass it around, 81 bottles of beer on the wall\n",
      "81 bottles of beer on the wall, 81 bottles of beer.\n",
      "Take one down, pass it around, 80 bottles of beer on the wall\n",
      "80 bottles of beer on the wall, 80 bottles of beer.\n",
      "Take one down, pass it around, 79 bottles of beer on the wall\n",
      "79 bottles of beer on the wall, 79 bottles of beer.\n",
      "Take one down, pass it around, 78 bottles of beer on the wall\n",
      "78 bottles of beer on the wall, 78 bottles of beer.\n",
      "Take one down, pass it around, 77 bottles of beer on the wall\n",
      "77 bottles of beer on the wall, 77 bottles of beer.\n",
      "Take one down, pass it around, 76 bottles of beer on the wall\n",
      "76 bottles of beer on the wall, 76 bottles of beer.\n",
      "Take one down, pass it around, 75 bottles of beer on the wall\n",
      "75 bottles of beer on the wall, 75 bottles of beer.\n",
      "Take one down, pass it around, 74 bottles of beer on the wall\n",
      "74 bottles of beer on the wall, 74 bottles of beer.\n",
      "Take one down, pass it around, 73 bottles of beer on the wall\n",
      "73 bottles of beer on the wall, 73 bottles of beer.\n",
      "Take one down, pass it around, 72 bottles of beer on the wall\n",
      "72 bottles of beer on the wall, 72 bottles of beer.\n",
      "Take one down, pass it around, 71 bottles of beer on the wall\n",
      "71 bottles of beer on the wall, 71 bottles of beer.\n",
      "Take one down, pass it around, 70 bottles of beer on the wall\n",
      "70 bottles of beer on the wall, 70 bottles of beer.\n",
      "Take one down, pass it around, 69 bottles of beer on the wall\n",
      "69 bottles of beer on the wall, 69 bottles of beer.\n",
      "Take one down, pass it around, 68 bottles of beer on the wall\n",
      "68 bottles of beer on the wall, 68 bottles of beer.\n",
      "Take one down, pass it around, 67 bottles of beer on the wall\n",
      "67 bottles of beer on the wall, 67 bottles of beer.\n",
      "Take one down, pass it around, 66 bottles of beer on the wall\n",
      "66 bottles of beer on the wall, 66 bottles of beer.\n",
      "Take one down, pass it around, 65 bottles of beer on the wall\n",
      "65 bottles of beer on the wall, 65 bottles of beer.\n",
      "Take one down, pass it around, 64 bottles of beer on the wall\n",
      "64 bottles of beer on the wall, 64 bottles of beer.\n",
      "Take one down, pass it around, 63 bottles of beer on the wall\n",
      "63 bottles of beer on the wall, 63 bottles of beer.\n",
      "Take one down, pass it around, 62 bottles of beer on the wall\n",
      "62 bottles of beer on the wall, 62 bottles of beer.\n",
      "Take one down, pass it around, 61 bottles of beer on the wall\n",
      "61 bottles of beer on the wall, 61 bottles of beer.\n",
      "Take one down, pass it around, 60 bottles of beer on the wall\n",
      "60 bottles of beer on the wall, 60 bottles of beer.\n",
      "Take one down, pass it around, 59 bottles of beer on the wall\n",
      "59 bottles of beer on the wall, 59 bottles of beer.\n",
      "Take one down, pass it around, 58 bottles of beer on the wall\n",
      "58 bottles of beer on the wall, 58 bottles of beer.\n",
      "Take one down, pass it around, 57 bottles of beer on the wall\n",
      "57 bottles of beer on the wall, 57 bottles of beer.\n",
      "Take one down, pass it around, 56 bottles of beer on the wall\n",
      "56 bottles of beer on the wall, 56 bottles of beer.\n",
      "Take one down, pass it around, 55 bottles of beer on the wall\n",
      "55 bottles of beer on the wall, 55 bottles of beer.\n",
      "Take one down, pass it around, 54 bottles of beer on the wall\n",
      "54 bottles of beer on the wall, 54 bottles of beer.\n",
      "Take one down, pass it around, 53 bottles of beer on the wall\n",
      "53 bottles of beer on the wall, 53 bottles of beer.\n",
      "Take one down, pass it around, 52 bottles of beer on the wall\n",
      "52 bottles of beer on the wall, 52 bottles of beer.\n",
      "Take one down, pass it around, 51 bottles of beer on the wall\n",
      "51 bottles of beer on the wall, 51 bottles of beer.\n",
      "Take one down, pass it around, 50 bottles of beer on the wall\n",
      "50 bottles of beer on the wall, 50 bottles of beer.\n",
      "Take one down, pass it around, 49 bottles of beer on the wall\n",
      "49 bottles of beer on the wall, 49 bottles of beer.\n",
      "Take one down, pass it around, 48 bottles of beer on the wall\n",
      "48 bottles of beer on the wall, 48 bottles of beer.\n",
      "Take one down, pass it around, 47 bottles of beer on the wall\n",
      "47 bottles of beer on the wall, 47 bottles of beer.\n",
      "Take one down, pass it around, 46 bottles of beer on the wall\n",
      "46 bottles of beer on the wall, 46 bottles of beer.\n",
      "Take one down, pass it around, 45 bottles of beer on the wall\n",
      "45 bottles of beer on the wall, 45 bottles of beer.\n",
      "Take one down, pass it around, 44 bottles of beer on the wall\n",
      "44 bottles of beer on the wall, 44 bottles of beer.\n",
      "Take one down, pass it around, 43 bottles of beer on the wall\n",
      "43 bottles of beer on the wall, 43 bottles of beer.\n",
      "Take one down, pass it around, 42 bottles of beer on the wall\n",
      "42 bottles of beer on the wall, 42 bottles of beer.\n",
      "Take one down, pass it around, 41 bottles of beer on the wall\n",
      "41 bottles of beer on the wall, 41 bottles of beer.\n",
      "Take one down, pass it around, 40 bottles of beer on the wall\n",
      "40 bottles of beer on the wall, 40 bottles of beer.\n",
      "Take one down, pass it around, 39 bottles of beer on the wall\n",
      "39 bottles of beer on the wall, 39 bottles of beer.\n",
      "Take one down, pass it around, 38 bottles of beer on the wall\n",
      "38 bottles of beer on the wall, 38 bottles of beer.\n",
      "Take one down, pass it around, 37 bottles of beer on the wall\n",
      "37 bottles of beer on the wall, 37 bottles of beer.\n",
      "Take one down, pass it around, 36 bottles of beer on the wall\n",
      "36 bottles of beer on the wall, 36 bottles of beer.\n",
      "Take one down, pass it around, 35 bottles of beer on the wall\n",
      "35 bottles of beer on the wall, 35 bottles of beer.\n",
      "Take one down, pass it around, 34 bottles of beer on the wall\n",
      "34 bottles of beer on the wall, 34 bottles of beer.\n",
      "Take one down, pass it around, 33 bottles of beer on the wall\n",
      "33 bottles of beer on the wall, 33 bottles of beer.\n",
      "Take one down, pass it around, 32 bottles of beer on the wall\n",
      "32 bottles of beer on the wall, 32 bottles of beer.\n",
      "Take one down, pass it around, 31 bottles of beer on the wall\n",
      "31 bottles of beer on the wall, 31 bottles of beer.\n",
      "Take one down, pass it around, 30 bottles of beer on the wall\n",
      "30 bottles of beer on the wall, 30 bottles of beer.\n",
      "Take one down, pass it around, 29 bottles of beer on the wall\n",
      "29 bottles of beer on the wall, 29 bottles of beer.\n",
      "Take one down, pass it around, 28 bottles of beer on the wall\n",
      "28 bottles of beer on the wall, 28 bottles of beer.\n",
      "Take one down, pass it around, 27 bottles of beer on the wall\n",
      "27 bottles of beer on the wall, 27 bottles of beer.\n",
      "Take one down, pass it around, 26 bottles of beer on the wall\n",
      "26 bottles of beer on the wall, 26 bottles of beer.\n",
      "Take one down, pass it around, 25 bottles of beer on the wall\n",
      "25 bottles of beer on the wall, 25 bottles of beer.\n",
      "Take one down, pass it around, 24 bottles of beer on the wall\n",
      "24 bottles of beer on the wall, 24 bottles of beer.\n",
      "Take one down, pass it around, 23 bottles of beer on the wall\n",
      "23 bottles of beer on the wall, 23 bottles of beer.\n",
      "Take one down, pass it around, 22 bottles of beer on the wall\n",
      "22 bottles of beer on the wall, 22 bottles of beer.\n",
      "Take one down, pass it around, 21 bottles of beer on the wall\n",
      "21 bottles of beer on the wall, 21 bottles of beer.\n",
      "Take one down, pass it around, 20 bottles of beer on the wall\n",
      "20 bottles of beer on the wall, 20 bottles of beer.\n",
      "Take one down, pass it around, 19 bottles of beer on the wall\n",
      "19 bottles of beer on the wall, 19 bottles of beer.\n",
      "Take one down, pass it around, 18 bottles of beer on the wall\n",
      "18 bottles of beer on the wall, 18 bottles of beer.\n",
      "Take one down, pass it around, 17 bottles of beer on the wall\n",
      "17 bottles of beer on the wall, 17 bottles of beer.\n",
      "Take one down, pass it around, 16 bottles of beer on the wall\n",
      "16 bottles of beer on the wall, 16 bottles of beer.\n",
      "Take one down, pass it around, 15 bottles of beer on the wall\n",
      "15 bottles of beer on the wall, 15 bottles of beer.\n",
      "Take one down, pass it around, 14 bottles of beer on the wall\n",
      "14 bottles of beer on the wall, 14 bottles of beer.\n",
      "Take one down, pass it around, 13 bottles of beer on the wall\n",
      "13 bottles of beer on the wall, 13 bottles of beer.\n",
      "Take one down, pass it around, 12 bottles of beer on the wall\n",
      "12 bottles of beer on the wall, 12 bottles of beer.\n",
      "Take one down, pass it around, 11 bottles of beer on the wall\n",
      "11 bottles of beer on the wall, 11 bottles of beer.\n",
      "Take one down, pass it around, 10 bottles of beer on the wall\n",
      "10 bottles of beer on the wall, 10 bottles of beer.\n",
      "Take one down, pass it around, 9 bottles of beer on the wall\n",
      "9 bottles of beer on the wall, 9 bottles of beer.\n",
      "Take one down, pass it around, 8 bottles of beer on the wall\n",
      "8 bottles of beer on the wall, 8 bottles of beer.\n",
      "Take one down, pass it around, 7 bottles of beer on the wall\n",
      "7 bottles of beer on the wall, 7 bottles of beer.\n",
      "Take one down, pass it around, 6 bottles of beer on the wall\n",
      "6 bottles of beer on the wall, 6 bottles of beer.\n",
      "Take one down, pass it around, 5 bottles of beer on the wall\n",
      "5 bottles of beer on the wall, 5 bottles of beer.\n",
      "Take one down, pass it around, 4 bottles of beer on the wall\n",
      "4 bottles of beer on the wall, 4 bottles of beer.\n",
      "Take one down, pass it around, 3 bottles of beer on the wall\n",
      "3 bottles of beer on the wall, 3 bottles of beer.\n",
      "Take one down, pass it around, 2 bottles of beer on the wall\n",
      "2 bottles of beer on the wall, 2 bottles of beer.\n",
      "Take one down, pass it around, 1 bottles of beer on the wall\n",
      "1 bottles of beer on the wall, 1 bottles of beer.\n",
      "Take one down, pass it around, 0 bottles of beer on the wall\n"
     ]
    }
   ],
   "source": [
    "def verse():\n",
    "    \"\"\"\n",
    "    The verse function takes in a number n as an input and returns the song '99 bottles of coke' starting from 99 and decrease to 0.\n",
    "    \n",
    "    Parameter: the number of bottles \n",
    "    \"\"\"\n",
    "    count = 99     # create a variable count and make it equals to 99\n",
    "    while count >0: # if count is greater than 0, prints the song\n",
    "        print (str( count ) + ' bottles of beer on the wall, ' + str( count ) + ' bottles of beer.') \n",
    "        # print the song\n",
    "        print ('Take one down, pass it around, ' + str( count - 1 ) + ' bottles of beer on the wall')\n",
    "        # pring  'take one down, pass it around, count of bottles beer on the wall.'\n",
    "        count -= 1  #count of the bottles and decrease by 1 every step\n",
    "verse()             #Test the verse"
   ]
  },
  {
   "cell_type": "markdown",
   "metadata": {},
   "source": [
    "# Q9"
   ]
  },
  {
   "cell_type": "code",
   "execution_count": 15,
   "metadata": {
    "collapsed": false
   },
   "outputs": [
    {
     "data": {
      "text/plain": [
       "'god jul och gott nytt år '"
      ]
     },
     "execution_count": 15,
     "metadata": {},
     "output_type": "execute_result"
    }
   ],
   "source": [
    "def translate(text):\n",
    "    \"\"\"\n",
    "    The translate function takes a list of English words as its input and returns \n",
    "    a list of corresponding Swedish.\n",
    "    \n",
    "    Parameter: the English words \n",
    "    \"\"\"\n",
    "    dictionary={'merry':'god', 'christmas':'jul', 'and':'och', 'happy':'gott', 'new':'nytt', 'year':'år'} \n",
    "    #define a dictionary has following words: 'merry':'god', 'christmas':'jul', 'and':'och', 'happy':'gott', 'new':'nytt', 'year':'år'\n",
    "    swedish=''  # create a variable called swedish and make it empty and \n",
    "    for i in text.split(): # loops through the first word to the last word in the text\n",
    "        if (str(dictionary.get(i)))!='None':   #check if the word is in the dictionary\n",
    "            swedish=swedish+str(dictionary.get(i))+' '   #if the word is in the dictionary, then translate to the correspoding Swedish\n",
    "    return swedish                                       #print out the Swedish\n",
    "translate('merry christmas and happy new year')         #Test\n"
   ]
  },
  {
   "cell_type": "markdown",
   "metadata": {},
   "source": [
    "# Q10"
   ]
  },
  {
   "cell_type": "code",
   "execution_count": 11,
   "metadata": {
    "collapsed": false
   },
   "outputs": [
    {
     "data": {
      "text/plain": [
       "{'a': 7, 'b': 14, 'c': 3, 'd': 3}"
      ]
     },
     "execution_count": 11,
     "metadata": {},
     "output_type": "execute_result"
    }
   ],
   "source": [
    "def char_freq( string ):\n",
    "    \"\"\"\n",
    "    The char_freq function takes a string as an input and returns the dictionary as an output.\n",
    "    \n",
    "    Parameter: charater of string\n",
    "    \"\"\"\n",
    "    dictionary={}                        #make a dictionary and make it empty\n",
    "    for i in range(0,len(string)):       #loop through each character in the sring\n",
    "        if string[i]not in dictionary:   #if the character of the string is not in the dictionary\n",
    "            dictionary[string[i]]= 1     #count the frequency of the charater to 1\n",
    "        elif string[i] in dictionary:    #if the character of the string is already in the dictionary\n",
    "            dictionary[string[i]]=int((dictionary.get(string[i])))+1 #then increase the frequency of that character by 1\n",
    "            #if the character is in the dic, add 1 to its frequency .\n",
    "    return dictionary            # return to the output: dictionary      \n",
    "\n",
    "\n",
    "char_freq('abbabcbdbabdbdbabababcbcbab')    #Test a string\n"
   ]
  },
  {
   "cell_type": "markdown",
   "metadata": {},
   "source": [
    "# Q11"
   ]
  },
  {
   "cell_type": "code",
   "execution_count": 16,
   "metadata": {
    "collapsed": false
   },
   "outputs": [
    {
     "name": "stdout",
     "output_type": "stream",
     "text": [
      "Caesar cipher? I much prefer Caesar salad!\n"
     ]
    }
   ],
   "source": [
    "def ROT_13(text):\n",
    "    \"\"\"\n",
    "    The ROT_13 function takes a string called text as an input and returns the string encoded/deciphered by\n",
    "    Caesar's cipher. \n",
    "    \n",
    "    Parameter: a string\n",
    "    \"\"\"\n",
    "    key={'a':'n','b':'o','c':'p','d':'q','e':'r','f':'s','g':'t','h':'u','i':'v','j':'w','k':'x','l':'y','m':'z','n':'a','o':'b','p':'c','q':'d','r':'e','s':'f','t':'g','u':'h','v':'i','w':'j','x':'k','y':'l','z':'m','A':'N','B':'O','C':'P','D':'Q','E':'R','F':'S','G':'T','H':'U','I':'V','J':'W','K':'X','L':'Y','M':'Z','N':'A','O':'B','P':'C','Q':'D','R':'E','S':'F','T':'G','U':'H','V':'I','W':'J','X':'K','Y':'L','Z':'M'} \n",
    "              #define the key\n",
    "    result='' #create a variable called result and make it empty\n",
    "    for i in range(0,len(text)): #loops through every character in the text\n",
    "        if text[i] in key:    #if the character is in the key\n",
    "            result=result+key[text[i]] # put the corresponding text found in the key\n",
    "        else:                          # if the character is not in the key\n",
    "            result=result+text[i]      # put the character as a result\n",
    "    print(result)                      # returns to the encoded/deciphered text\n",
    "ROT_13('Pnrfne pvcure? V zhpu cersre Pnrfne fnynq!')  #Test\n"
   ]
  },
  {
   "cell_type": "markdown",
   "metadata": {},
   "source": [
    "# Q12"
   ]
  },
  {
   "cell_type": "code",
   "execution_count": 17,
   "metadata": {
    "collapsed": false
   },
   "outputs": [
    {
     "name": "stdout",
     "output_type": "stream",
     "text": [
      "This is very funny and cool. Indeed!\n"
     ]
    }
   ],
   "source": [
    "def correct(text):\n",
    "    \"\"\"\n",
    "    The correct function takes a string called text as input and returns\n",
    "    the correct string as output. In order to correct the string, we need to  \n",
    "    remove extra spaces between words, add spaces after a period followed by a \n",
    "    letter. \n",
    "    \n",
    "    Parameter: a string called text\n",
    "    \"\"\"\n",
    "\n",
    "    correcttext=''   #create a variable called correcttext and make it empty\n",
    "    for x in range(0,len(text)): #loops through each character in the text\n",
    "        if text[x]==' ' and text[x+1]==' ': # check if there is two or more spaces in text\n",
    "            correcttext=correcttext         # if no extra spaces, then put the original text as correcttext\n",
    "        elif text[x]=='.' and text[x+1]!=' ': # check if there is no space after the letter followed by a period\n",
    "            correcttext=correcttext+text[x]+' ' #if yes, then add space after the period\n",
    "        else:                                    #if no, then\n",
    "            correcttext=correcttext+text[x]     \n",
    "    print(correcttext)             \n",
    "correct('This is very funny and cool.Indeed!')  #Test a sentence\n",
    "\n"
   ]
  },
  {
   "cell_type": "markdown",
   "metadata": {},
   "source": [
    "# Q13"
   ]
  },
  {
   "cell_type": "code",
   "execution_count": 8,
   "metadata": {
    "collapsed": false
   },
   "outputs": [
    {
     "name": "stdout",
     "output_type": "stream",
     "text": [
      "flies\n",
      "watches\n",
      "runs\n",
      "relaxes\n"
     ]
    }
   ],
   "source": [
    "def make_3sg_form(word):\n",
    "    \"\"\"\n",
    "    The make_3sg_form function takes a string as an input and return the third person singular for \n",
    "    of that verb as output. \n",
    "    \n",
    "    Parameter: a string called word\n",
    "    \"\"\"\n",
    "\n",
    "    verb=''                #create a variable verb which is the third person singular form of the verb and make it empty\n",
    "    if word.endswith('y'): #check if word ends with y\n",
    "        n=0                # if it yes, then create a variable n and make it zero\n",
    "        while n<(len(word)-1): # the while loop go through the first character to the penultimate character of the word\n",
    "            verb=verb+word[n]  # put the charater into the verb\n",
    "            n=n+1              # increase by 1 to n\n",
    "        verb=verb+'ies'        # add ies to the verb\n",
    "    elif word.endswith('o')or word.endswith('ch')or word.endswith('s') or word.endswith('sh') or word.endswith('x') or word.endswith('z'):\n",
    "        verb=word+'es'  #if word ends with o,ch,s,sh,x,z, then add es to the word\n",
    "    else:               #for the other cases\n",
    "        verb=word+'s'   #add s to the word\n",
    "    print (verb)        #print the third person singular form of the verb\n",
    "make_3sg_form('fly')\n",
    "make_3sg_form('watch')\n",
    "make_3sg_form('run')        #Test four words\n",
    "make_3sg_form('relax')\n",
    "\n",
    "\n"
   ]
  },
  {
   "cell_type": "markdown",
   "metadata": {},
   "source": [
    "# Q14"
   ]
  },
  {
   "cell_type": "code",
   "execution_count": 20,
   "metadata": {
    "collapsed": false
   },
   "outputs": [
    {
     "ename": "IndentationError",
     "evalue": "unindent does not match any outer indentation level (<ipython-input-20-765b3c330408>, line 22)",
     "output_type": "error",
     "traceback": [
      "\u001b[1;36m  File \u001b[1;32m\"<ipython-input-20-765b3c330408>\"\u001b[1;36m, line \u001b[1;32m22\u001b[0m\n\u001b[1;33m    while n<(len(word)-1):\u001b[0m\n\u001b[1;37m                          ^\u001b[0m\n\u001b[1;31mIndentationError\u001b[0m\u001b[1;31m:\u001b[0m unindent does not match any outer indentation level\n"
     ]
    }
   ],
   "source": [
    "def make_ing_form(word):\n",
    "    \"\"\"\n",
    "    This function takes a string as an input and returns to the present participate form as an output.\n",
    "    \n",
    "    Parameter: a string called word\n",
    "    \"\"\"\n",
    "\n",
    "    \n",
    "    verb=''                #create a variable called verb and make it empty\n",
    "    if word.endswith('e'): # when the word end in e, there will be three cases here: 'ee', 'ie', or the word'be'\n",
    "        if word.endswith('ie'): #check if the verb ends in ie\n",
    "            n=0                 #if yes, then create a variable n and make it equals to zero\n",
    "            while n<(len(word)-2):#while loop goes through the first character to the antepenult in the word\n",
    "                verb=verb+word[n] # put the character into the present participate form\n",
    "                n=n+1             # increase n by 1\n",
    "        elif word.endswith('ee'): #If the verb ends in ee\n",
    "            verb=verb+'ing'       # add ing to the verb\n",
    "        elif word =='be':         #if the word is be\n",
    "             verb=word+'ing'      #add ing to the word be\n",
    "        else:                     #in the other cases\n",
    "             n=0                  #create a variable n and make it equals to zero \n",
    "            while n<(len(word)-1):#while loop goes through the first character to the penultimate character in the word\n",
    "            verb=verb+word[n]     #put the characeter into present participate form\n",
    "            n=n+1                 #increase n by 1\n",
    "            verb=verb+'ing'       # add ing to the verb\n",
    "\n",
    "    \n",
    "    elif word[-2] in 'aiou'and word[-1] not in 'aeiou':  #if the verb has consonant-vowel-consonant\n",
    "        verb = word + word[-1] + 'ing'                   # double the last character and add ing\n",
    "    else:                                                #in the other cases\n",
    "        verb = verb +'ing'                               # add ing to the verb\n",
    "    print(verb)                                          #return to the present participate form\n",
    "\n",
    "\n"
   ]
  },
  {
   "cell_type": "code",
   "execution_count": null,
   "metadata": {
    "collapsed": true
   },
   "outputs": [],
   "source": []
  },
  {
   "cell_type": "code",
   "execution_count": null,
   "metadata": {
    "collapsed": true
   },
   "outputs": [],
   "source": []
  }
 ],
 "metadata": {
  "kernelspec": {
   "display_name": "Python 3",
   "language": "python",
   "name": "python3"
  },
  "language_info": {
   "codemirror_mode": {
    "name": "ipython",
    "version": 3
   },
   "file_extension": ".py",
   "mimetype": "text/x-python",
   "name": "python",
   "nbconvert_exporter": "python",
   "pygments_lexer": "ipython3",
   "version": "3.4.3"
  }
 },
 "nbformat": 4,
 "nbformat_minor": 0
}
