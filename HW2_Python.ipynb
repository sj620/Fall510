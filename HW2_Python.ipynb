{
 "cells": [
  {
   "cell_type": "markdown",
   "metadata": {},
   "source": [
    "1"
   ]
  },
  {
   "cell_type": "code",
   "execution_count": null,
   "metadata": {
    "collapsed": false
   },
   "outputs": [],
   "source": [
    "def fib(n):\n",
    "    a, b = 0, 1\n",
    "    while a < n:\n",
    "        print(a, end=' ')\n",
    "        a, b = b, a+b\n",
    "    if a < n:\n",
    "        print(a)\n",
    "fib(1000)"
   ]
  },
  {
   "cell_type": "code",
   "execution_count": null,
   "metadata": {
    "collapsed": false
   },
   "outputs": [],
   "source": [
    "def mymax(a,b)\n",
    "    if b > a:\n",
    "        return b\n",
    "    else:\n",
    "        return a \n",
    "mymax(3,4)"
   ]
  },
  {
   "cell_type": "code",
   "execution_count": null,
   "metadata": {
    "collapsed": false
   },
   "outputs": [],
   "source": [
    "def max_of_three(x,y,z)\n",
    "   max_of_three = x\n",
    "    if y > X:\n",
    "        return y\n",
    "    elif z >x:\n",
    "        return z\n",
    "    else:\n",
    "        return x\n",
    "    max_of_three(3,4,5)\n",
    "        "
   ]
  },
  {
   "cell_type": "code",
   "execution_count": null,
   "metadata": {
    "collapsed": false
   },
   "outputs": [],
   "source": [
    "def mylen(text):\n",
    "    count=0\n",
    "    for i in text:\n",
    "        count=count+1\n",
    "    print (count)\n",
    " "
   ]
  },
  {
   "cell_type": "code",
   "execution_count": null,
   "metadata": {
    "collapsed": true
   },
   "outputs": [],
   "source": [
    "def isVowel(char):\n",
    "    if char == 'a' or char == 'e' or char == 'i' or char == 'o' or char == 'u':\n",
    "        return True\n",
    "    else:\n",
    "        return False\n",
    "isVowel(a)"
   ]
  },
  {
   "cell_type": "code",
   "execution_count": null,
   "metadata": {
    "collapsed": true
   },
   "outputs": [],
   "source": [
    "def translate(string):\n",
    "consonants = 'bcdfghjklmnpqrstuvwsyz'\n",
    "    for i in string:\n",
    "         if i in consonants:\n",
    "    else:\n",
    "         print(i+'o'+i,end= '')\n",
    "\n",
    "translate('this is fun')\n",
    "    "
   ]
  },
  {
   "cell_type": "code",
   "execution_count": null,
   "metadata": {
    "collapsed": true
   },
   "outputs": [],
   "source": [
    "def sum(list1):\n",
    "    s = 0\n",
    "    for num in list1:\n",
    "        s= s+num\n",
    "    print(s) \n",
    "def multiply(list1):\n",
    "    m=1\n",
    "    for num in list1:\n",
    "        m=m*num\n",
    "    return m\n",
    "print(sum([1,2,3,4]))\n",
    "print(multiply([1,2,3,4]))\n"
   ]
  },
  {
   "cell_type": "code",
   "execution_count": null,
   "metadata": {
    "collapsed": true
   },
   "outputs": [],
   "source": [
    "def reverse(text):\n",
    "    x=\"\"\n",
    "    for i in range(len(text)):\n",
    "        x += text[-(i+1)]\n",
    "    return x "
   ]
  },
  {
   "cell_type": "code",
   "execution_count": null,
   "metadata": {
    "collapsed": true
   },
   "outputs": [],
   "source": [
    "def is_palindrome(s):\n",
    "    if len(s) < 1:\n",
    "        return True\n",
    "    elif:\n",
    "        s[0] == s[-1]:\n",
    "        return is_palindrome(s[1:-1])\n",
    "    else:\n",
    "    return False"
   ]
  },
  {
   "cell_type": "code",
   "execution_count": null,
   "metadata": {
    "collapsed": true
   },
   "outputs": [],
   "source": [
    "def isMember (value, list):\n",
    "    for element in list:\n",
    "        if element == value:\n",
    "            return True\n",
    "    return False"
   ]
  },
  {
   "cell_type": "code",
   "execution_count": null,
   "metadata": {
    "collapsed": true
   },
   "outputs": [],
   "source": [
    "def overlapping(lista,listb):\n",
    "    for char1 in lista:\n",
    "        for char2 in listb:\n",
    "            if char1 == char2: \n",
    "                return True\n",
    "    else return False"
   ]
  },
  {
   "cell_type": "code",
   "execution_count": null,
   "metadata": {
    "collapsed": true
   },
   "outputs": [],
   "source": [
    "def generate_n_chara(n,c):\n",
    "    x=''\n",
    "    for num in range(n):\n",
    "        x=x+c\n",
    "    print(x)\n",
    "generate_n_chars(5,'x')"
   ]
  }
 ],
 "metadata": {
  "kernelspec": {
   "display_name": "Python 3",
   "language": "python",
   "name": "python3"
  },
  "language_info": {
   "codemirror_mode": {
    "name": "ipython",
    "version": 3
   },
   "file_extension": ".py",
   "mimetype": "text/x-python",
   "name": "python",
   "nbconvert_exporter": "python",
   "pygments_lexer": "ipython3",
   "version": "3.4.3"
  }
 },
 "nbformat": 4,
 "nbformat_minor": 0
}
